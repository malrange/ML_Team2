{
 "cells": [
  {
   "cell_type": "code",
   "execution_count": 11,
   "id": "aca6e647",
   "metadata": {},
   "outputs": [],
   "source": [
    "from selenium import webdriver\n",
    "from selenium.webdriver.chrome.service import Service\n",
    "from webdriver_manager.chrome import ChromeDriverManager\n",
    "from selenium.webdriver.common.by import By\n",
    "from selenium.webdriver.support.ui import WebDriverWait\n",
    "from selenium.webdriver.support import expected_conditions as EC\n",
    "import time\n",
    "from bs4 import BeautifulSoup"
   ]
  },
  {
   "cell_type": "code",
   "execution_count": 14,
   "id": "2663418e",
   "metadata": {},
   "outputs": [
    {
     "name": "stdout",
     "output_type": "stream",
     "text": [
      "250\n",
      "링크갯수 : 30\n"
     ]
    }
   ],
   "source": [
    "service = Service(ChromeDriverManager().install())\n",
    "\n",
    "detail_links = []\n",
    "\n",
    "for page_num in range(250,251):\n",
    "    time.sleep(1)\n",
    "    try:\n",
    "        print(page_num)\n",
    "        car_url = f\"https://www.kbchachacha.com/public/search/main.kbc#!?countryOrder=1&page={page_num}\"\n",
    "        driver = webdriver.Chrome(service=service)\n",
    "        driver.get(car_url)\n",
    "\n",
    "        time.sleep(1)\n",
    "\n",
    "                # 차량 목록을 포함하고 있는 요소 찾기\n",
    "        cars = driver.find_elements(By.CLASS_NAME, \"area\")\n",
    "\n",
    "        for car in cars:\n",
    "                    # 각 차량의 상세 페이지 링크 추출\n",
    "            details = car.find_elements(By.CSS_SELECTOR, \"a\")\n",
    "            for detail in details:\n",
    "                href = detail.get_attribute('href')\n",
    "                if 'detail.kbc?carSeq' in href:\n",
    "                    detail_links.append(href)\n",
    "#                 print(href)\n",
    "\n",
    "    finally:\n",
    "        driver.quit()  # 작업이 완료되면 드라이버를 닫습니다.\n",
    "\n",
    "# 추출된 링크 확인\n",
    "print(f\"링크갯수 : {len(set(detail_links))}\")\n"
   ]
  },
  {
   "cell_type": "code",
   "execution_count": 15,
   "id": "a8666a97",
   "metadata": {},
   "outputs": [
    {
     "name": "stdout",
     "output_type": "stream",
     "text": [
      "30\n"
     ]
    }
   ],
   "source": [
    "print(len(set(detail_links)))"
   ]
  },
  {
   "cell_type": "code",
   "execution_count": 16,
   "id": "d5e7378d",
   "metadata": {},
   "outputs": [],
   "source": [
    "fail_links = []"
   ]
  },
  {
   "cell_type": "code",
   "execution_count": 17,
   "id": "c53a0fdf",
   "metadata": {},
   "outputs": [],
   "source": [
    "detail_links = list(set(detail_links)) \n",
    "\n",
    "car_info_list = []\n",
    "\n",
    "limit = 2 \n",
    "for detail_link in detail_links:\n",
    "    for attempt in range(limit):\n",
    "        detail_info = crawl_detail_info_chacha(detail_link)\n",
    "        if \"연식\" in detail_info.keys():\n",
    "            car_info_list.append(detail_info)\n",
    "            break  \n",
    "        time.sleep(1)\n",
    "    else:\n",
    "        fail_links.append(detail_link)\n",
    "        print(f\"{detail_link} 크롤링 실패\")\n"
   ]
  },
  {
   "cell_type": "code",
   "execution_count": null,
   "id": "b9961e37",
   "metadata": {},
   "outputs": [],
   "source": [
    "# #connectionreseterror 발생했을때\n",
    "# detail_links = set(detail_links)\n",
    "\n",
    "# limit = 2 \n",
    "# for detail_link in detail_links:\n",
    "#     for attempt in range(limit):\n",
    "#         detail_info = crawl_detail_info_chacha(detail_link)\n",
    "#         if \"연식\" in detail_info.keys():\n",
    "#             car_info_list.append(detail_info)\n",
    "#             break  \n",
    "#         time.sleep(1)\n",
    "#         detail_links.remove(detail_link)\n",
    "#     else:\n",
    "#         fail_links.append(detail_link)\n",
    "#         print(f\"{detail_link} 크롤링 실패\")\n"
   ]
  },
  {
   "cell_type": "code",
   "execution_count": null,
   "id": "b41fb4ae",
   "metadata": {},
   "outputs": [],
   "source": [
    "fail_links = set(fail_links)\n",
    "\n",
    "for detail_link in fail_links:\n",
    "    for attempt in range(limit):\n",
    "        detail_info = crawl_detail_info_chacha(detail_link)\n",
    "        if \"연식\" in detail_info.keys():\n",
    "            car_info_list.append(detail_info)\n",
    "            break\n",
    "        fail_links.remove(detail_link)\n",
    "        time.sleep(1)  \n",
    "    else:\n",
    "        print(f\"{detail_link} 크롤링 실패\")\n",
    "\n",
    "# fail_links = []\n"
   ]
  },
  {
   "cell_type": "code",
   "execution_count": 13,
   "id": "7930dd8d",
   "metadata": {},
   "outputs": [],
   "source": [
    "def crawl_detail_info_chacha(detail_url):\n",
    "    service = Service(ChromeDriverManager().install())\n",
    "    driver = webdriver.Chrome(service=service)\n",
    "    driver.get(detail_url)\n",
    "    time.sleep(1)\n",
    "    html_txt = driver.page_source\n",
    "    soup = BeautifulSoup(html_txt, 'html.parser')\n",
    "\n",
    "    option_list = ['내비게이션','썬루프','스마트키','오토라이트','주차감지센서','가죽시트','열선시트','통풍시트']\n",
    "    info_dict = {}\n",
    "    \n",
    "    try:\n",
    "        name_tag = soup.select_one(\"#content > div:nth-child(19) > div.common-sub-content.common-container.fix-content > div.cmm-cardt-area.adj1740.adj1670.adj1500.adj1441 > div.car-dt-info > div.car-buy-info > div.car-buy-price > strong\")\n",
    "        \n",
    "        info_dict[\"차종\"] = name_tag.text.strip()\n",
    "    except:\n",
    "        info_dict[\"차종\"] = None\n",
    "    try:\n",
    "        price_tag = soup.select_one(\"#content > div:nth-child(19) > div.common-sub-content.common-container.fix-content > div.cmm-cardt-area.adj1740.adj1670.adj1500.adj1441 > div.car-dt-info > div.car-buy-info > div.car-buy-price > div > dl > dd > strong\")\n",
    "        info_dict[\"가격\"] = price_tag.text.strip()\n",
    "    except:\n",
    "        info_dict[\"가격\"] = None\n",
    "    \n",
    "    \n",
    "    try:\n",
    "        tbody_tag = soup.select_one(\"#content > div:nth-child(19) > div.common-sub-content.common-container.fix-content > div.cmm-cardt-area.adj1740.adj1670.adj1500.adj1441 > div.car-detail-info > div > div.detail-info01 > table > tbody\")\n",
    "\n",
    "        # 각 tr 태그에 대해 반복하여 정보를 추출하여 딕셔너리에 저장하고, 리스트에 추가\n",
    "        for tr_tag in tbody_tag.find_all('tr'):\n",
    "            th_tags = tr_tag.find_all('th')\n",
    "#             print(\"th_tags : \",th_tags)\n",
    "            td_tags = tr_tag.find_all('td')\n",
    "#             print(\"td_tags : \",td_tags)\n",
    "            \n",
    "            for th_tag, td_tag in zip(th_tags, td_tags):\n",
    "                # 각 th 태그와 td 태그의 텍스트를 키와 값으로 저장\n",
    "                key = th_tag.text.strip()\n",
    "                value = td_tag.text.strip()\n",
    "                if key not in [\"배기량\",\"연식\",\"주행거리\",\"변속기\",\"색상\",\"연료\"]:\n",
    "                    continue\n",
    "                info_dict[key] = value        \n",
    "    except:\n",
    "        \n",
    "        pass\n",
    "#     - 소유자변경유무\n",
    "#     - 전손유무\n",
    "#     - 침수유무\n",
    "\n",
    "    try:\n",
    "        dl_tags = soup.select(\"#content > div:nth-child(19) > div.common-sub-content.common-container.fix-content > div.cmm-cardt-area.adj1740.adj1670.adj1500.adj1441 > div.car-detail-info > div > div.detail-info02 > div > dl\")\n",
    "\n",
    "        for dl_tag in dl_tags:\n",
    "            dt_tags = dl_tag.find_all('dt')\n",
    "            dd_tags = dl_tag.find_all('dd')\n",
    "\n",
    "            for dt_tag, dd_tag in zip(dt_tags, dd_tags):\n",
    "                key = dt_tag.text.strip()\n",
    "                value = dd_tag.text.strip()\n",
    "                if key in [\"전손이력\", \"침수이력\", \"소유자변경\"]:\n",
    "                    info_dict[key] = value\n",
    "    except:\n",
    "        pass\n",
    "    \n",
    "# - 옵션\n",
    "#     - 썬루프\n",
    "#     - 내비게이션\n",
    "#     - 스마트키\n",
    "#     - 오토라이트\n",
    "#     - 주차감지센서\n",
    "#     - 가죽시트\n",
    "#     - 열선시트\n",
    "#     - 통풍시트\n",
    "    option_selector = \".car-option-list\"\n",
    "    \n",
    "    option_containers = soup.select(option_selector)\n",
    "    \n",
    "#     option_selector = \".option-list-container\"\n",
    "    \n",
    "    # 옵션들을 모두 선택\n",
    "#     option_containers = soup.select(option_selector)\n",
    "    try:\n",
    "        for option_container in option_containers:\n",
    "        # 대분류에서 모든 옵션을 선택\n",
    "            options = option_container.select(\"li > span\")\n",
    "\n",
    "            # 각 옵션에 대해 순회하면서 필요한 정보 가져오기\n",
    "            for option in options:\n",
    "                option_text = option.text.strip()\n",
    "\n",
    "                if option_text not in option_list:\n",
    "                    continue\n",
    "\n",
    "                value = 1\n",
    "                \n",
    "                \n",
    "                \n",
    "                # 대분류와 옵션 텍스트를 조합하여 키로, 값으로 설정하여 사전에 저장\n",
    "                info_dict[option_text] = value\n",
    "        \n",
    "    except:\n",
    "        pass\n",
    "    \n",
    "    for option in option_list:\n",
    "            if option not in info_dict.keys():\n",
    "                value = 0\n",
    "                info_dict[option] = value\n",
    "    \n",
    "    time.sleep(1)\n",
    "    return info_dict\n"
   ]
  },
  {
   "cell_type": "code",
   "execution_count": 43,
   "id": "3325846f",
   "metadata": {},
   "outputs": [
    {
     "data": {
      "text/plain": [
       "[{'차종': '(99보6885)기아 봉고3캠핑카',\n",
       "  '가격': '3,490만원',\n",
       "  '연식': '19년02월(19년형)',\n",
       "  '주행거리': '18,446km',\n",
       "  '연료': '디젤',\n",
       "  '변속기': '오토',\n",
       "  '배기량': '2,497cc',\n",
       "  '색상': '흰색',\n",
       "  '전손이력': '없음',\n",
       "  '침수이력': '없음',\n",
       "  '소유자변경': '2회',\n",
       "  '내비게이션': 1,\n",
       "  '오토라이트': 1,\n",
       "  '주차감지센서': 1,\n",
       "  '가죽시트': 1,\n",
       "  '열선시트': 1,\n",
       "  '썬루프': 0,\n",
       "  '스마트키': 0,\n",
       "  '통풍시트': 0}]"
      ]
     },
     "execution_count": 43,
     "metadata": {},
     "output_type": "execute_result"
    }
   ],
   "source": [
    "car_info_list"
   ]
  },
  {
   "cell_type": "code",
   "execution_count": 13,
   "id": "04807e8c",
   "metadata": {},
   "outputs": [
    {
     "data": {
      "text/plain": [
       "69"
      ]
     },
     "execution_count": 13,
     "metadata": {},
     "output_type": "execute_result"
    }
   ],
   "source": [
    "len(car_info_list)"
   ]
  },
  {
   "cell_type": "code",
   "execution_count": null,
   "id": "847dffd0",
   "metadata": {},
   "outputs": [],
   "source": [
    "len(set(detail_links))"
   ]
  },
  {
   "cell_type": "code",
   "execution_count": 1,
   "id": "80d128e6",
   "metadata": {},
   "outputs": [
    {
     "name": "stderr",
     "output_type": "stream",
     "text": [
      "C:\\Users\\DongWook\\AppData\\Local\\Temp\\ipykernel_13756\\727691863.py:1: DeprecationWarning: \n",
      "Pyarrow will become a required dependency of pandas in the next major release of pandas (pandas 3.0),\n",
      "(to allow more performant data types, such as the Arrow string type, and better interoperability with other libraries)\n",
      "but was not found to be installed on your system.\n",
      "If this would cause problems for you,\n",
      "please provide us feedback at https://github.com/pandas-dev/pandas/issues/54466\n",
      "        \n",
      "  import pandas as pd\n"
     ]
    },
    {
     "ename": "NameError",
     "evalue": "name 'car_info_list' is not defined",
     "output_type": "error",
     "traceback": [
      "\u001b[1;31m---------------------------------------------------------------------------\u001b[0m",
      "\u001b[1;31mNameError\u001b[0m                                 Traceback (most recent call last)",
      "Cell \u001b[1;32mIn[1], line 4\u001b[0m\n\u001b[0;32m      1\u001b[0m \u001b[38;5;28;01mimport\u001b[39;00m \u001b[38;5;21;01mpandas\u001b[39;00m \u001b[38;5;28;01mas\u001b[39;00m \u001b[38;5;21;01mpd\u001b[39;00m\n\u001b[1;32m----> 4\u001b[0m df \u001b[38;5;241m=\u001b[39m pd\u001b[38;5;241m.\u001b[39mDataFrame(\u001b[43mcar_info_list\u001b[49m)\n\u001b[0;32m      6\u001b[0m \u001b[38;5;66;03m# df.to_csv(\"chacha_crawling_(1~5).csv\",encoding = 'cp949')\u001b[39;00m\n",
      "\u001b[1;31mNameError\u001b[0m: name 'car_info_list' is not defined"
     ]
    }
   ],
   "source": [
    "import pandas as pd\n",
    "\n",
    "\n",
    "df = pd.DataFrame(car_info_list)\n",
    "\n",
    "# df.to_csv(\"chacha_crawling_(1~5).csv\",encoding = 'cp949')"
   ]
  },
  {
   "cell_type": "code",
   "execution_count": 97,
   "id": "4223d6b8",
   "metadata": {},
   "outputs": [],
   "source": [
    "# df_drop_dup = df.drop_duplicates()"
   ]
  },
  {
   "cell_type": "code",
   "execution_count": 98,
   "id": "3ee2814f",
   "metadata": {},
   "outputs": [
    {
     "data": {
      "text/plain": [
       "206"
      ]
     },
     "execution_count": 98,
     "metadata": {},
     "output_type": "execute_result"
    }
   ],
   "source": [
    "# len(df_drop_dup)"
   ]
  },
  {
   "cell_type": "code",
   "execution_count": null,
   "id": "5ae154f5",
   "metadata": {},
   "outputs": [],
   "source": []
  }
 ],
 "metadata": {
  "kernelspec": {
   "display_name": "Python 3 (ipykernel)",
   "language": "python",
   "name": "python3"
  },
  "language_info": {
   "codemirror_mode": {
    "name": "ipython",
    "version": 3
   },
   "file_extension": ".py",
   "mimetype": "text/x-python",
   "name": "python",
   "nbconvert_exporter": "python",
   "pygments_lexer": "ipython3",
   "version": "3.11.5"
  }
 },
 "nbformat": 4,
 "nbformat_minor": 5
}
